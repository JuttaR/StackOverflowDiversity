{
 "cells": [
  {
   "cell_type": "markdown",
   "metadata": {},
   "source": [
    "# 2020 Stack Overflow Survey - Focus: Diversity\n",
    "\n",
    "This notebook is using the <b>CRISP-DM</b> process to analyze the 2020 Stack Overflow survey focussing on aspects related to diversity in tech.\n",
    "\n",
    "## 1. Business Understanding\n",
    "International Women’s Day 2021 again sparked many discussions about diversity and inclusion. Having just started the Udacity Nanodegree in Data Science as the only female in my company, the day triggered me to investigate the status quo in the tech community and to provide current facts & figures in order to contribute to the overall diversity discussion.\n",
    "1. What is the demographic setup of today’s developer community? What profile is typical for a person writing code these days?\n",
    "2. How inclusive is the community? Do underrepresented groups feel equally welcome?\n",
    "3. Are there differences regarding compensation? Is there a gender pay gap?\n",
    "\n",
    "## 2. Data Understanding\n",
    "The above stated questions are examined using the results of the largest, most current study of developers globally: the 2020 Stack Overflow Annual Developer Survey with nearly 65,000 respondents. The dataset is readily accessible from Stack Overflow and covers a wide breadth of topics. The following steps are undertaken to get a better understanding of the data."
   ]
  },
  {
   "cell_type": "markdown",
   "metadata": {},
   "source": [
    "#### Import required libraries and main dataset with survey responses"
   ]
  },
  {
   "cell_type": "code",
   "execution_count": null,
   "metadata": {},
   "outputs": [],
   "source": [
    "import numpy as np\n",
    "import pandas as pd\n",
    "import matplotlib.pyplot as plt\n",
    "import seaborn as sns\n",
    "%matplotlib inline\n",
    "\n",
    "#Styling the visualizations\n",
    "sns.set()\n",
    "sns.set_style(\"whitegrid\")\n",
    "\n",
    "#Read in survey responses dataset\n",
    "df = pd.read_csv('./survey_results_public.csv')\n",
    "df.head()"
   ]
  },
  {
   "cell_type": "markdown",
   "metadata": {},
   "source": [
    "#### Examining original survey questions to gain better understanding of responses"
   ]
  },
  {
   "cell_type": "code",
   "execution_count": null,
   "metadata": {},
   "outputs": [],
   "source": [
    "#Adapt pandas default setting to display all survey questions in full length\n",
    "pd.set_option('display.max_colwidth', None)\n",
    "pd.set_option('display.max_rows', None)\n",
    "\n",
    "#Read in schema to display survey questions\n",
    "df_schema = pd.read_csv('./survey_results_schema.csv')\n",
    "df_schema"
   ]
  },
  {
   "cell_type": "markdown",
   "metadata": {},
   "source": [
    "#### Examine shape and column names of main dataset"
   ]
  },
  {
   "cell_type": "code",
   "execution_count": null,
   "metadata": {},
   "outputs": [],
   "source": [
    "df.shape"
   ]
  },
  {
   "cell_type": "code",
   "execution_count": null,
   "metadata": {},
   "outputs": [],
   "source": [
    "df.columns"
   ]
  },
  {
   "cell_type": "markdown",
   "metadata": {},
   "source": [
    "#### Finding: \n",
    "The relevant columns used for anwering the posed questions are: Age, ConvertedComp (yearly compensation converted into USD), Country, Ethnicity, Gender, SOAccount (whether a respondent has a Stack Overflow account), SOComm (whether a respondent considers themselves a member of the Stack Overflow community), Sexuality, Trans(gender), YearsCodePro (professional coding experience). "
   ]
  },
  {
   "cell_type": "markdown",
   "metadata": {},
   "source": [
    "#### Missing values"
   ]
  },
  {
   "cell_type": "code",
   "execution_count": null,
   "metadata": {},
   "outputs": [],
   "source": [
    "#Adapt pandas default setting to display all results\n",
    "pd.set_option('display.max_rows', None)\n",
    "\n",
    "#Show missing values\n",
    "round(df.isnull().mean().sort_values(ascending=False), 2)"
   ]
  },
  {
   "cell_type": "markdown",
   "metadata": {},
   "source": [
    "#### Finding: \n",
    "There are missing values in the relevant columns for examining diversity in tech: \n",
    "ConvertedComp (46%), Sexuality (32%), Age and Ethnicity (29%), YearsCodePro(28%), Trans (23%), Gender (22%), SOAccount & SOComm (12%) and Country (1%).\n",
    "As the notebook deals with descriptive statistics, no manipulation such as imputing values will be undertaken at this point. This ensures that there is the maximum data available for the different dimensions that will be analyzed and that there is no bias introduced by just keeping data of respondents that were willing to disclose everything in the survey."
   ]
  },
  {
   "cell_type": "markdown",
   "metadata": {},
   "source": [
    "## 3. Preparing Data\n",
    "\n",
    "In the following cells, several steps will be undertaken to prepare data for analysis and visualization:\n",
    "- replacing multiple answers where adequate (e.g. to display cleaner visualizations)\n",
    "- shortening responses where adequate (e.g. to display data in a cleaner fashion)\n",
    "- adding sorting possibility to ranked categorical data\n",
    "- convert strings into numeric data where adequate"
   ]
  },
  {
   "cell_type": "code",
   "execution_count": null,
   "metadata": {},
   "outputs": [],
   "source": [
    "df['Ethnicity'] = df['Ethnicity'].replace(to_replace=r'(.*;.*)', value='Multiple answers', regex=True)\n",
    "df['Ethnicity'] = df['Ethnicity'].replace(to_replace=r'(Indigenous.*)', value='Indigeneous', regex=True)\n",
    "\n",
    "df['Gender'] = df['Gender'].replace(to_replace=r'(.*;.*)', value='Multiple answers', regex=True)\n",
    "\n",
    "df['Sexuality'] = df['Sexuality'].replace(to_replace=r'(.*;.*)', value='Multiple answers', regex=True)\n",
    "\n",
    "df['SOComm'] = df['SOComm'].replace(\n",
    "    ['Neutral', 'No, not at all', 'No, not really', 'Not sure', 'Yes, definitely', 'Yes, somewhat'],\n",
    "    ['3 - Neutral', '5 - No, not at all', '4 - No, not really', '6 - Not sure', '1 - Yes, definitely', '2 - Yes, somewhat'])\n",
    "\n",
    "df['YearsCodePro'] = df['YearsCodePro'].replace(['Less than 1 year', 'More than 50 years'],['0', '51'])\n",
    "df['YearsCodePro'] = pd.to_numeric(df['YearsCodePro'], errors='coerce')"
   ]
  },
  {
   "cell_type": "markdown",
   "metadata": {},
   "source": [
    "## 4. Data Modeling / Analysis\n",
    "\n",
    "In the following cells, each question is tackled with the preprocessed data."
   ]
  },
  {
   "cell_type": "markdown",
   "metadata": {},
   "source": [
    "### QUESTION 1: Demographic setup"
   ]
  },
  {
   "cell_type": "markdown",
   "metadata": {},
   "source": [
    "#### Stereotypical developer"
   ]
  },
  {
   "cell_type": "code",
   "execution_count": null,
   "metadata": {},
   "outputs": [],
   "source": [
    "#Calculate and print \"stereotypical\" features of developers, mode for categorical data, median for numerical data\n",
    "avg_gender = df.Gender.mode()[0]\n",
    "avg_age = round(df.Age.median())\n",
    "avg_sexuality = df.Sexuality.mode()[0]\n",
    "avg_ethnicity = df.Ethnicity.mode()[0]\n",
    "avg_trans = df.Trans.mode()[0]\n",
    "\n",
    "print(f'The average developer is a {avg_age}-year old, {avg_sexuality}, {avg_trans}-trans, {avg_ethnicity} {avg_gender}.')"
   ]
  },
  {
   "cell_type": "markdown",
   "metadata": {},
   "source": [
    "#### Gender"
   ]
  },
  {
   "cell_type": "code",
   "execution_count": null,
   "metadata": {},
   "outputs": [],
   "source": [
    "#Count values and plot as pie chart\n",
    "gender_counts = df['Gender'].value_counts()\n",
    "\n",
    "gender_counts.plot.pie(\n",
    "    autopct=\"%.1f%%\", \n",
    "    explode=(0, 0.1, 0.1, 0.5), \n",
    "    figsize=(10, 10));"
   ]
  },
  {
   "cell_type": "markdown",
   "metadata": {},
   "source": [
    "#### Trans(gender)"
   ]
  },
  {
   "cell_type": "code",
   "execution_count": null,
   "metadata": {},
   "outputs": [],
   "source": [
    "#Count values and show as percentages\n",
    "trans_counts = df.Trans.value_counts()\n",
    "trans_counts/sum(trans_counts)"
   ]
  },
  {
   "cell_type": "markdown",
   "metadata": {},
   "source": [
    "#### Sexuality"
   ]
  },
  {
   "cell_type": "code",
   "execution_count": null,
   "metadata": {},
   "outputs": [],
   "source": [
    "#Count values and plot as pie chart\n",
    "sexuality_counts = df['Sexuality'].value_counts()\n",
    "\n",
    "sexuality_counts.plot.pie(\n",
    "    autopct=\"%.1f%%\", \n",
    "    explode=(0, 0.1, 0.1, 0.1, 0.3), \n",
    "    figsize=(10, 10));"
   ]
  },
  {
   "cell_type": "markdown",
   "metadata": {},
   "source": [
    "#### Ethnicity"
   ]
  },
  {
   "cell_type": "code",
   "execution_count": null,
   "metadata": {},
   "outputs": [],
   "source": [
    "#Count values and plot as pie chart\n",
    "ethnicity_counts = df['Ethnicity'].value_counts()\n",
    "\n",
    "ethnicity_counts.plot.pie(\n",
    "    autopct=\"%.1f%%\", \n",
    "    explode=(0, 0.1, 0.1, 0.1, 0.1, 0.1, 0.1, 0.1, 0.2, 0.4, 0.5), \n",
    "    figsize=(10, 10));"
   ]
  },
  {
   "cell_type": "markdown",
   "metadata": {},
   "source": [
    "#### Age by Gender Group"
   ]
  },
  {
   "cell_type": "code",
   "execution_count": null,
   "metadata": {},
   "outputs": [],
   "source": [
    "#Create age buckets and gender groups\n",
    "age_bins = [15, 20, 25, 30, 35, 40, 45, 50, 55, 60]\n",
    "age_men = df['Age'][df.Gender.eq(\"Man\")].dropna()\n",
    "age_women = df['Age'][df.Gender.eq(\"Woman\")].dropna()\n",
    "\n",
    "#Plot as labelled histogram\n",
    "gender_label = ['Men', 'Women']\n",
    "plt.hist([age_men, age_women], bins=age_bins, density=True, label=gender_label)\n",
    "plt.legend();"
   ]
  },
  {
   "cell_type": "code",
   "execution_count": null,
   "metadata": {},
   "outputs": [],
   "source": [
    "#Calculate and print median age\n",
    "median_age_women = round(age_women.median())\n",
    "median_age_men = round(age_men.median())\n",
    "\n",
    "print(f'The median age is: {median_age_women}-years old (women) and {median_age_men}-years old (men).')"
   ]
  },
  {
   "cell_type": "markdown",
   "metadata": {},
   "source": [
    "### QUESTION 2: Inclusiveness of Stack Overflow community"
   ]
  },
  {
   "cell_type": "code",
   "execution_count": null,
   "metadata": {},
   "outputs": [],
   "source": [
    "#Only include respondents with a Stack Overflow account\n",
    "members_only = df[df.SOAccount.eq(\"Yes\")].groupby(['Gender', 'SOComm'])['Respondent'].count()\n",
    "\n",
    "#Group members by gender\n",
    "members_gender = df[df.SOAccount.eq(\"Yes\")].groupby(['Gender'])['Respondent'].count()\n",
    "\n",
    "#Show percentages of responses based on gender\n",
    "feeling_member = members_only.div(members_gender, level=\"Gender\")\n",
    "feeling_member"
   ]
  },
  {
   "cell_type": "code",
   "execution_count": null,
   "metadata": {},
   "outputs": [],
   "source": [
    "#Plot as horizontally stacked bar chart and show legend\n",
    "feeling_member.unstack().plot.barh(stacked=True)\n",
    "plt.legend(loc=\"center right\");"
   ]
  },
  {
   "cell_type": "markdown",
   "metadata": {},
   "source": [
    "### QUESTION 3: Salary"
   ]
  },
  {
   "cell_type": "markdown",
   "metadata": {},
   "source": [
    "#### Salaries across countries"
   ]
  },
  {
   "cell_type": "code",
   "execution_count": null,
   "metadata": {},
   "outputs": [],
   "source": [
    "#Create compensation bins\n",
    "comp_bins = [0, 20000, 40000, 60000, 80000, 100000, 120000, 140000, 160000, 180000, 200000, 220000, 240000]\n",
    "\n",
    "#Filtering compensation by country\n",
    "comp_usa = df['ConvertedComp'][df.Country.eq(\"United States\")].dropna()\n",
    "comp_uk = df['ConvertedComp'][df.Country.eq(\"United Kingdom\")].dropna()\n",
    "comp_india = df['ConvertedComp'][df.Country.eq(\"India\")].dropna()\n",
    "\n",
    "#Plotting data as histogram and show legend\n",
    "country_label = ['USA', 'UK', 'India']\n",
    "plt.hist([comp_usa, comp_uk, comp_india], bins=comp_bins, density=True, label=country_label);\n",
    "plt.legend();"
   ]
  },
  {
   "cell_type": "code",
   "execution_count": null,
   "metadata": {},
   "outputs": [],
   "source": [
    "#Calculate and print median compensation by country\n",
    "median_comp_usa = round(comp_usa.median())\n",
    "median_comp_uk = round(comp_uk.median())\n",
    "median_comp_india = round(comp_india.median())\n",
    "\n",
    "print(f'The median compensation in USD is: ${median_comp_usa} (USA), ${median_comp_uk} (UK), ${median_comp_india} (India)')"
   ]
  },
  {
   "cell_type": "markdown",
   "metadata": {},
   "source": [
    "### Salary by gender in United States"
   ]
  },
  {
   "cell_type": "code",
   "execution_count": null,
   "metadata": {},
   "outputs": [],
   "source": [
    "#Filter dataset for United States\n",
    "usa = df[df.Country.eq(\"United States\")]\n",
    "\n",
    "#Create gender groups\n",
    "comp_usa_men = usa['ConvertedComp'][df.Gender.eq(\"Man\")].dropna()\n",
    "comp_usa_women = usa['ConvertedComp'][df.Gender.eq(\"Woman\")].dropna()\n",
    "\n",
    "#Plot as labelled histogram and show legend\n",
    "plt.hist([comp_usa_men, comp_usa_women], bins=comp_bins, density=True, label=gender_label)\n",
    "plt.legend();"
   ]
  },
  {
   "cell_type": "code",
   "execution_count": null,
   "metadata": {},
   "outputs": [],
   "source": [
    "#Calculate median compensation and print\n",
    "median_comp_usa_women = round(comp_usa_women.median())\n",
    "median_comp_usa_men = round(comp_usa_men.median())\n",
    "\n",
    "print(f'The median compensation in USD is: ${median_comp_usa_women} for women and ${median_comp_usa_men} for men.')"
   ]
  },
  {
   "cell_type": "code",
   "execution_count": null,
   "metadata": {},
   "outputs": [],
   "source": [
    "#Plot histogram of professional coding experience\n",
    "df['YearsCodePro'].plot.hist();"
   ]
  },
  {
   "cell_type": "code",
   "execution_count": null,
   "metadata": {},
   "outputs": [],
   "source": [
    "#Print relevant statistics\n",
    "df['YearsCodePro'].describe()"
   ]
  },
  {
   "cell_type": "code",
   "execution_count": null,
   "metadata": {},
   "outputs": [],
   "source": [
    "#Filter experience by gender group\n",
    "code_men = df['YearsCodePro'][df.Gender.eq(\"Man\")]\n",
    "code_women = df['YearsCodePro'][df.Gender.eq(\"Woman\")].dropna()\n",
    "\n",
    "#Plot as labelled histogram and show legend\n",
    "plt.hist([code_men, code_women], density=True, label=gender_label)\n",
    "plt.legend();"
   ]
  },
  {
   "cell_type": "code",
   "execution_count": null,
   "metadata": {},
   "outputs": [],
   "source": [
    "#Calculate median professional coding experience\n",
    "median_code_women = round(code_women.median())\n",
    "median_code_men = round(code_men.median())\n",
    "\n",
    "print(f'The median professional coding experience is: {median_code_women} years for women and {median_code_men} years for men.')"
   ]
  },
  {
   "cell_type": "code",
   "execution_count": null,
   "metadata": {},
   "outputs": [],
   "source": [
    "#Create experience bins and show counts to evaluate if group sizes are large enough\n",
    "years_bins = [0, 2, 5, 10, 15, 51]\n",
    "\n",
    "usa_years_gender = df.groupby(['Gender', pd.cut(df.YearsCodePro, years_bins)])\n",
    "usa_years_gender.size().unstack()"
   ]
  },
  {
   "cell_type": "code",
   "execution_count": null,
   "metadata": {},
   "outputs": [],
   "source": [
    "#Cut coding experience into bins\n",
    "df['ProCodingExperience'] = pd.cut(df['YearsCodePro'], years_bins)\n",
    "\n",
    "#Remove groups with too low numbers\n",
    "usa_men_women = df[~df['Gender'].isin([\"Multiple answers\", \"Non-binary, genderqueer, or gender non-conforming\"])]\n",
    "\n",
    "#Create seaborn boxplot aand hide outliers to improve readability\n",
    "sns.boxplot(\n",
    "    x=\"ProCodingExperience\", \n",
    "    y=\"ConvertedComp\", \n",
    "    hue=\"Gender\", \n",
    "    data=usa_men_women, \n",
    "    showfliers=False);"
   ]
  },
  {
   "cell_type": "code",
   "execution_count": null,
   "metadata": {},
   "outputs": [],
   "source": [
    "usa_men_women.groupby(['ProCodingExperience','Gender'])['ConvertedComp'].median()"
   ]
  },
  {
   "cell_type": "markdown",
   "metadata": {},
   "source": [
    "## 5. Evaluation of results\n",
    "The results will be primarily described in my Medium Blog post: https://juttarichter.medium.com/top-facts-about-diversity-inclusion-equ-al-ity-in-todays-tech-community-dd33916f6b11\n",
    "\n",
    "Here is a quick overview:\n",
    "1. What is the demographic setup of today’s developer community? What profile is typical for a person writing code these days? \n",
    "In all analyzed dimensions, there is one single group dominating by a large percentage. The typical developer is a 29-year old, heterosexual, non-transgender, white man.\n",
    "\n",
    "2. How inclusive is the community? Do underrepresented groups feel equally welcome?\n",
    "Half of all men consider themselves a member of the community, the percentages are much lower for women (29%) and non-binary, genderqueer, or gender non-conforming respondents (29%).\n",
    "\n",
    "3. Are there differences regarding compensation? Is there a gender pay gap?\n",
    "There are differences, however much depends on factors such as country of residence or professional coding experience. When filtering for the US and splitting by experience, females even tend to earn more early in their career (median compensation), with 15+ years of experience, the median compensation for men is slightly higher. Additional factors such as chosen career, education or programming language were not further examined as the data would be split into too small buckets."
   ]
  }
 ],
 "metadata": {
  "kernelspec": {
   "display_name": "Python 3",
   "language": "python",
   "name": "python3"
  },
  "language_info": {
   "codemirror_mode": {
    "name": "ipython",
    "version": 3
   },
   "file_extension": ".py",
   "mimetype": "text/x-python",
   "name": "python",
   "nbconvert_exporter": "python",
   "pygments_lexer": "ipython3",
   "version": "3.7.6"
  }
 },
 "nbformat": 4,
 "nbformat_minor": 4
}
