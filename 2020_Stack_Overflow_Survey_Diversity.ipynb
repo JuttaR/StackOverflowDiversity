{
 "cells": [
  {
   "cell_type": "markdown",
   "metadata": {},
   "source": [
    "# 2020 Stack Overflow Survey - Focus: Diversity\n",
    "\n",
    "The following Notebook examines the 2020 Stack Overflow survey focussing on diversity using the CRISP-DM process. \n",
    "\n",
    "Questions:\n",
    "1. What is the demographic setup of today's developer community? What profile is typical for a person writing code these days? \n",
    "2. How inclusive is the community? Do underrepresented groups feel equally welcome?\n",
    "3. Are there differences regarding compensation? Is there a gender pay gap?"
   ]
  },
  {
   "cell_type": "markdown",
   "metadata": {},
   "source": [
    "## Imports"
   ]
  },
  {
   "cell_type": "code",
   "execution_count": null,
   "metadata": {},
   "outputs": [],
   "source": [
    "import numpy as np\n",
    "import pandas as pd\n",
    "import matplotlib.pyplot as plt\n",
    "import seaborn as sns\n",
    "%matplotlib inline\n",
    "\n",
    "#Styling the visualizations\n",
    "sns.set()\n",
    "sns.set_style(\"whitegrid\")\n",
    "\n",
    "#Read in dataset\n",
    "df = pd.read_csv('./survey_results_public.csv')\n",
    "df.head()"
   ]
  },
  {
   "cell_type": "markdown",
   "metadata": {},
   "source": [
    "### Examining original survey questions"
   ]
  },
  {
   "cell_type": "code",
   "execution_count": null,
   "metadata": {},
   "outputs": [],
   "source": [
    "#Adapt pandas default setting to display all survey questions in full length\n",
    "pd.set_option('display.max_colwidth', None)\n",
    "pd.set_option('display.max_rows', None)\n",
    "\n",
    "#Read in schema to display survey questions\n",
    "df_schema = pd.read_csv('./survey_results_schema.csv')\n",
    "df_schema"
   ]
  },
  {
   "cell_type": "code",
   "execution_count": null,
   "metadata": {},
   "outputs": [],
   "source": [
    "df.shape"
   ]
  },
  {
   "cell_type": "code",
   "execution_count": null,
   "metadata": {},
   "outputs": [],
   "source": [
    "df.columns"
   ]
  },
  {
   "cell_type": "markdown",
   "metadata": {},
   "source": [
    "### Missing values"
   ]
  },
  {
   "cell_type": "code",
   "execution_count": null,
   "metadata": {},
   "outputs": [],
   "source": [
    "#Adapt pandas default setting to display all results\n",
    "pd.set_option('display.max_rows', None)\n",
    "\n",
    "#Show missing values\n",
    "df.isnull().mean().sort_values(ascending=False)"
   ]
  },
  {
   "cell_type": "markdown",
   "metadata": {},
   "source": [
    "#### Finding: \n",
    "There are missing values in the relevant columns for examining diversity groups: \n",
    "Sexuality (0.317541), Age (0.294985), Ethnicity (0.287197), Trans(gender) (0.234498) and Gender (0.215696), however, as the notebook deals with descriptive statistics, no manipulation will be undertaken at this point."
   ]
  },
  {
   "cell_type": "markdown",
   "metadata": {},
   "source": [
    "## QUESTION 1: Demographic setup"
   ]
  },
  {
   "cell_type": "markdown",
   "metadata": {},
   "source": [
    "### Gender"
   ]
  },
  {
   "cell_type": "code",
   "execution_count": null,
   "metadata": {},
   "outputs": [],
   "source": [
    "#Replace multiple answers and plot as pie chart\n",
    "df['Gender'] = df['Gender'].dropna().replace(to_replace=r'(.*;.*)', value='Multiple answers', regex=True)\n",
    "gender_counts = df['Gender'].value_counts()\n",
    "\n",
    "gender_counts.plot.pie(\n",
    "    autopct=\"%.1f%%\", \n",
    "    explode=(0, 0.1, 0.1, 0.5), \n",
    "    figsize=(10, 10));"
   ]
  },
  {
   "cell_type": "markdown",
   "metadata": {},
   "source": [
    "### Trans(gender)"
   ]
  },
  {
   "cell_type": "code",
   "execution_count": null,
   "metadata": {},
   "outputs": [],
   "source": [
    "#Count values and show as percentages\n",
    "trans_counts = df.Trans.value_counts()\n",
    "trans_counts/sum(trans_counts)*100"
   ]
  },
  {
   "cell_type": "markdown",
   "metadata": {},
   "source": [
    "### Sexuality"
   ]
  },
  {
   "cell_type": "code",
   "execution_count": null,
   "metadata": {},
   "outputs": [],
   "source": [
    "#Replace multiple answers and plot as pie chart\n",
    "df['Sexuality'] = df['Sexuality'].dropna().replace(to_replace=r'(.*;.*)', value='Multiple answers', regex=True)\n",
    "sexuality_counts = df['Sexuality'].value_counts()\n",
    "\n",
    "sexuality_counts.plot.pie(\n",
    "    autopct=\"%.1f%%\", \n",
    "    explode=(0, 0.1, 0.1, 0.1, 0.3), \n",
    "    figsize=(10, 10));"
   ]
  },
  {
   "cell_type": "markdown",
   "metadata": {},
   "source": [
    "### Ethnicity"
   ]
  },
  {
   "cell_type": "code",
   "execution_count": null,
   "metadata": {},
   "outputs": [],
   "source": [
    "#Replace multiple answers and shorten long answer and plot as pie chart\n",
    "df['Ethnicity'] = df['Ethnicity'].dropna().replace(to_replace=r'(.*;.*)', value='Multiple answers', regex=True)\n",
    "df['Ethnicity'] = df['Ethnicity'].replace(to_replace=r'(Indigenous.*)', value='Indigeneous', regex=True)\n",
    "ethnicity_counts = df['Ethnicity'].value_counts()\n",
    "\n",
    "ethnicity_counts.plot.pie(\n",
    "    autopct=\"%.1f%%\", \n",
    "    explode=(0, 0.1, 0.1, 0.1, 0.1, 0.1, 0.1, 0.1, 0.2, 0.4, 0.5), \n",
    "    figsize=(10, 10));"
   ]
  },
  {
   "cell_type": "markdown",
   "metadata": {},
   "source": [
    "### Age by Gender Group"
   ]
  },
  {
   "cell_type": "code",
   "execution_count": null,
   "metadata": {},
   "outputs": [],
   "source": [
    "#Create age buckets and gender groups\n",
    "age_bins = [15, 20, 25, 30, 35, 40, 45, 50, 55, 60]\n",
    "age_men = df['Age'][df.Gender.eq(\"Man\")].dropna()\n",
    "age_women = df['Age'][df.Gender.eq(\"Woman\")].dropna()\n",
    "\n",
    "#Plot as labelled histogram\n",
    "gender_label = ['Men', 'Women']\n",
    "plt.hist([age_men, age_women], bins=age_bins, density=True, label=gender_label)\n",
    "plt.legend();"
   ]
  },
  {
   "cell_type": "code",
   "execution_count": null,
   "metadata": {},
   "outputs": [],
   "source": [
    "#Calculate and print median age\n",
    "median_age_women = round(age_women.median())\n",
    "median_age_men = round(age_men.median())\n",
    "\n",
    "print(f'The median age is: {median_age_women}-years old (women) and {median_age_men}-years old (men).')"
   ]
  },
  {
   "cell_type": "markdown",
   "metadata": {},
   "source": [
    "## Average developer"
   ]
  },
  {
   "cell_type": "code",
   "execution_count": null,
   "metadata": {},
   "outputs": [],
   "source": [
    "#Calculate and print \"stereotypical\" features of developers, mode for categorical data, median for numerical data\n",
    "avg_gender = df.Gender.mode()[0]\n",
    "avg_age = round(df.Age.median())\n",
    "avg_sexuality = df.Sexuality.mode()[0]\n",
    "avg_ethnicity = df.Ethnicity.mode()[0]\n",
    "avg_trans = df.Trans.mode()[0]\n",
    "\n",
    "print(f'The average developer is a {avg_age}-year old, {avg_sexuality}, {avg_trans}-trans, {avg_ethnicity} {avg_gender}.')"
   ]
  },
  {
   "cell_type": "markdown",
   "metadata": {},
   "source": [
    "## QUESTION 2: Inclusiveness of Stack Overflow community"
   ]
  },
  {
   "cell_type": "code",
   "execution_count": null,
   "metadata": {},
   "outputs": [],
   "source": [
    "#Add numbers to answers for sorting later\n",
    "df['SOComm'] = df['SOComm'].dropna()\n",
    "df['SOComm'] = df['SOComm'].replace(\n",
    "    ['Neutral', 'No, not at all', 'No, not really', 'Not sure', 'Yes, definitely', 'Yes, somewhat'],\n",
    "    ['3 - Neutral', '5 - No, not at all', '4 - No, not really', '6 - Not sure', '1 - Yes, definitely', '2 - Yes, somewhat'])\n",
    "\n",
    "#Only include respondents with a Stack Overflow account\n",
    "members_only = df[df.SOAccount.eq(\"Yes\")].groupby(['Gender', 'SOComm'])['Respondent'].count()\n",
    "\n",
    "#Group members by gender\n",
    "members_gender = df[df.SOAccount.eq(\"Yes\")].groupby(['Gender'])['Respondent'].count()\n",
    "\n",
    "#Show percentages of responses based on gender\n",
    "feeling_member = members_only.div(members_gender, level=\"Gender\")\n",
    "feeling_member"
   ]
  },
  {
   "cell_type": "code",
   "execution_count": null,
   "metadata": {},
   "outputs": [],
   "source": [
    "#Plot as horizontally stacked bar chart and show legend\n",
    "feeling_member.unstack().plot.barh(stacked=True)\n",
    "plt.legend(loc=\"center right\");"
   ]
  },
  {
   "cell_type": "markdown",
   "metadata": {},
   "source": [
    "## QUESTION 3: Salary"
   ]
  },
  {
   "cell_type": "markdown",
   "metadata": {},
   "source": [
    "#### Salaries across countries"
   ]
  },
  {
   "cell_type": "code",
   "execution_count": null,
   "metadata": {},
   "outputs": [],
   "source": [
    "#Create compensation bins\n",
    "comp_bins = [0, 20000, 40000, 60000, 80000, 100000, 120000, 140000, 160000, 180000, 200000, 220000, 240000]\n",
    "\n",
    "#Filtering compensation by country\n",
    "comp_usa = df['ConvertedComp'][df.Country.eq(\"United States\")].dropna()\n",
    "comp_uk = df['ConvertedComp'][df.Country.eq(\"United Kingdom\")].dropna()\n",
    "comp_india = df['ConvertedComp'][df.Country.eq(\"India\")].dropna()\n",
    "\n",
    "#Plotting data as histogram and show legend\n",
    "country_label = ['USA', 'UK', 'India']\n",
    "plt.hist([comp_usa, comp_uk, comp_india], bins=comp_bins, density=True, label=country_label);\n",
    "plt.legend();"
   ]
  },
  {
   "cell_type": "code",
   "execution_count": null,
   "metadata": {},
   "outputs": [],
   "source": [
    "#Calculate and print median compensation by country\n",
    "median_comp_usa = round(comp_usa.median())\n",
    "median_comp_uk = round(comp_uk.median())\n",
    "median_comp_india = round(comp_india.median())\n",
    "\n",
    "print(f'The median compensation in USD is: ${median_comp_usa} (USA), ${median_comp_uk} (UK), ${median_comp_india} (India)')"
   ]
  },
  {
   "cell_type": "markdown",
   "metadata": {},
   "source": [
    "### Salary by gender in United States"
   ]
  },
  {
   "cell_type": "code",
   "execution_count": null,
   "metadata": {},
   "outputs": [],
   "source": [
    "#Filter dataset for United States\n",
    "usa = df[df.Country.eq(\"United States\")]\n",
    "\n",
    "#Create gender groups\n",
    "comp_usa_men = usa['ConvertedComp'][df.Gender.eq(\"Man\")].dropna()\n",
    "comp_usa_women = usa['ConvertedComp'][df.Gender.eq(\"Woman\")].dropna()\n",
    "\n",
    "#Plot as labelled histogram and show legend\n",
    "plt.hist([comp_usa_men, comp_usa_women], bins=comp_bins, density=True, label=gender_label)\n",
    "plt.legend();"
   ]
  },
  {
   "cell_type": "code",
   "execution_count": null,
   "metadata": {},
   "outputs": [],
   "source": [
    "#Calculate median compensation and print\n",
    "median_comp_usa_women = round(comp_usa_women.median())\n",
    "median_comp_usa_men = round(comp_usa_men.median())\n",
    "\n",
    "print(f'The median compensation in USD is: ${median_comp_usa_women} for women and ${median_comp_usa_men} for men.')"
   ]
  },
  {
   "cell_type": "code",
   "execution_count": null,
   "metadata": {},
   "outputs": [],
   "source": [
    "#Convert string values into numeric data and plot histogram\n",
    "df['YearsCodePro'] = df['YearsCodePro'].replace(['Less than 1 year', 'More than 50 years'],['0', '51'])\n",
    "df['YearsCodePro'] = pd.to_numeric(df['YearsCodePro'], errors='coerce')\n",
    "\n",
    "df['YearsCodePro'].plot.hist();"
   ]
  },
  {
   "cell_type": "code",
   "execution_count": null,
   "metadata": {},
   "outputs": [],
   "source": [
    "df['YearsCodePro'].describe()"
   ]
  },
  {
   "cell_type": "code",
   "execution_count": null,
   "metadata": {},
   "outputs": [],
   "source": [
    "#Filter experience by gender group\n",
    "code_men = df['YearsCodePro'][df.Gender.eq(\"Man\")].dropna()\n",
    "code_women = df['YearsCodePro'][df.Gender.eq(\"Woman\")].dropna()\n",
    "\n",
    "#Plot as labelled histogram and show legend\n",
    "plt.hist([code_men, code_women], density=True, label=gender_label)\n",
    "plt.legend();"
   ]
  },
  {
   "cell_type": "code",
   "execution_count": null,
   "metadata": {},
   "outputs": [],
   "source": [
    "#Calculate median professional coding experience\n",
    "median_code_women = round(code_women.median())\n",
    "median_code_men = round(code_men.median())\n",
    "\n",
    "print(f'The median professional coding experience is: {median_code_women} years for women and {median_code_men} years for men.')"
   ]
  },
  {
   "cell_type": "code",
   "execution_count": null,
   "metadata": {},
   "outputs": [],
   "source": [
    "#Create experience bins and show counts to evaluate if group sizes are large enough\n",
    "years_bins = [0, 2, 5, 10, 15, 51]\n",
    "\n",
    "usa_years_gender = df.groupby(['Gender', pd.cut(df.YearsCodePro, years_bins)])\n",
    "usa_years_gender.size().unstack()"
   ]
  },
  {
   "cell_type": "code",
   "execution_count": null,
   "metadata": {},
   "outputs": [],
   "source": [
    "#Cut coding experience into bins\n",
    "df['ProCodingExperience'] = pd.cut(df['YearsCodePro'], years_bins)\n",
    "\n",
    "#Remove groups with too low numbers\n",
    "usa_men_women = df[~df['Gender'].isin([\"Multiple answers\", \"Non-binary, genderqueer, or gender non-conforming\"])]\n",
    "\n",
    "#Create seaborn boxplot aand hide outliers to improve readability\n",
    "sns.boxplot(\n",
    "    x=\"ProCodingExperience\", \n",
    "    y=\"ConvertedComp\", \n",
    "    hue=\"Gender\", \n",
    "    data=usa_men_women, \n",
    "    showfliers=False);"
   ]
  }
 ],
 "metadata": {
  "kernelspec": {
   "display_name": "Python 3",
   "language": "python",
   "name": "python3"
  },
  "language_info": {
   "codemirror_mode": {
    "name": "ipython",
    "version": 3
   },
   "file_extension": ".py",
   "mimetype": "text/x-python",
   "name": "python",
   "nbconvert_exporter": "python",
   "pygments_lexer": "ipython3",
   "version": "3.7.6"
  }
 },
 "nbformat": 4,
 "nbformat_minor": 4
}
